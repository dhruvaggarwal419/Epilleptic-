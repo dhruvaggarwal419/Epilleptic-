{
 "cells": [
  {
   "cell_type": "code",
   "execution_count": 3,
   "id": "a6cb1680-0153-43f4-97f5-d019f69bbfd4",
   "metadata": {},
   "outputs": [],
   "source": [
    "import numpy as np  \n",
    "import pandas as pd  \n",
    "import matplotlib.pyplot as plt\n",
    "from sklearn.model_selection import train_test_split\n",
    "from sklearn.preprocessing import StandardScaler\n",
    "from sklearn.metrics import accuracy_score\n",
    "from sklearn.metrics import classification_report\n",
    "from sklearn.metrics import confusion_matrix\n",
    "\n",
    "\n",
    "import tensorflow as tf\n",
    "from tensorflow.keras.models import Sequential\n",
    "from tensorflow.keras.layers import Dense, Conv1D, Flatten, MaxPooling1D, Dropout\n",
    "\n",
    "import os\n",
    "for dirname, _, filenames in os.walk('file.csv/'):\n",
    "    for filename in filenames:\n",
    "        print(os.path.join(dirname, filename))"
   ]
  },
  {
   "cell_type": "code",
   "execution_count": 4,
   "id": "67bb3ebd-7894-494c-903b-82ad1b00f941",
   "metadata": {},
   "outputs": [
    {
     "name": "stdout",
     "output_type": "stream",
     "text": [
      "                 X1            X2            X3            X4            X5  \\\n",
      "count  11500.000000  11500.000000  11500.000000  11500.000000  11500.000000   \n",
      "mean     -11.581391    -10.911565    -10.187130     -9.143043     -8.009739   \n",
      "std      165.626284    166.059609    163.524317    161.269041    160.998007   \n",
      "min    -1839.000000  -1838.000000  -1835.000000  -1845.000000  -1791.000000   \n",
      "25%      -54.000000    -55.000000    -54.000000    -54.000000    -54.000000   \n",
      "50%       -8.000000     -8.000000     -7.000000     -8.000000     -8.000000   \n",
      "75%       34.000000     35.000000     36.000000     36.000000     35.000000   \n",
      "max     1726.000000   1713.000000   1697.000000   1612.000000   1518.000000   \n",
      "\n",
      "                 X6            X7           X8           X9           X10  \\\n",
      "count  11500.000000  11500.000000  11500.00000  11500.00000  11500.000000   \n",
      "mean      -7.003478     -6.502087     -6.68713     -6.55800     -6.168435   \n",
      "std      161.328725    161.467837    162.11912    162.03336    160.436352   \n",
      "min    -1757.000000  -1832.000000  -1778.00000  -1840.00000  -1867.000000   \n",
      "25%      -54.000000    -54.000000    -55.00000    -55.00000    -54.000000   \n",
      "50%       -8.000000     -8.000000     -8.00000     -7.00000     -7.000000   \n",
      "75%       36.000000     35.000000     36.00000     36.00000     35.250000   \n",
      "max     1816.000000   2047.000000   2047.00000   2047.00000   2047.000000   \n",
      "\n",
      "       ...          X169          X170          X171          X172  \\\n",
      "count  ...  11500.000000  11500.000000  11500.000000  11500.000000   \n",
      "mean   ...     -9.498870    -10.145739    -11.630348    -12.943478   \n",
      "std    ...    165.235574    164.652883    166.149790    168.554058   \n",
      "min    ...  -1860.000000  -1867.000000  -1865.000000  -1642.000000   \n",
      "25%    ...    -55.000000    -55.000000    -56.000000    -56.000000   \n",
      "50%    ...     -8.000000     -9.000000    -10.000000    -10.000000   \n",
      "75%    ...     35.000000     34.000000     34.000000     33.000000   \n",
      "max    ...   2047.000000   1777.000000   1472.000000   1319.000000   \n",
      "\n",
      "               X173          X174          X175          X176          X177  \\\n",
      "count  11500.000000  11500.000000  11500.000000  11500.000000  11500.000000   \n",
      "mean     -13.668870    -13.363304    -13.045043    -12.705130    -12.426000   \n",
      "std      168.556486    167.257290    164.241019    162.895832    162.886311   \n",
      "min    -1723.000000  -1866.000000  -1863.000000  -1781.000000  -1727.000000   \n",
      "25%      -56.000000    -55.000000    -56.000000    -55.000000    -55.000000   \n",
      "50%      -10.000000    -10.000000     -9.000000     -9.000000     -9.000000   \n",
      "75%       33.000000     34.000000     34.000000     34.000000     34.000000   \n",
      "max     1436.000000   1733.000000   1958.000000   2047.000000   2047.000000   \n",
      "\n",
      "               X178  \n",
      "count  11500.000000  \n",
      "mean     -12.195652  \n",
      "std      164.852015  \n",
      "min    -1829.000000  \n",
      "25%      -55.000000  \n",
      "50%       -9.000000  \n",
      "75%       34.000000  \n",
      "max     1915.000000  \n",
      "\n",
      "[8 rows x 178 columns]\n"
     ]
    }
   ],
   "source": [
    "data = pd.read_csv('file.csv')\n",
    "data = data.drop(columns=[\"Unnamed\"])  # Drop unnecessary columns\n",
    "X = data.drop(columns=['y']).values  \n",
    "y = data['y'].values  \n",
    "X = X.reshape(X.shape[0], X.shape[1], 1) \n",
    "from tensorflow.keras.utils import to_categorical\n",
    "y = to_categorical(y - 1) \n",
    "cols = data.drop(columns=['y']).columns.tolist() \n",
    "X_df = data.drop(columns=['y'])  \n",
    "print(X_df.describe())  "
   ]
  },
  {
   "cell_type": "code",
   "execution_count": 5,
   "id": "f27546dc-37c5-41bb-b0ac-598a1d3da64f",
   "metadata": {},
   "outputs": [
    {
     "data": {
      "image/png": "[encoded data removed]",
      "text/plain": [
       "<Figure size 640x480 with 1 Axes>"
      ]
     },
     "metadata": {},
     "output_type": "display_data"
    }
   ],
   "source": [
    "import seaborn as sn\n",
    "labels = ['no seizure', 'seizure']\n",
    "seizure = np.sum(y[:, 1])  # Count where class 1 is 1 (seizure)\n",
    "no_seizure = np.sum(y[:, 0])  # Count where class 0 is 1 (no seizure)\n",
    "sn.barplot(x=labels, y=[no_seizure, seizure])\n",
    "plt.ylabel('Count')\n",
    "plt.title('Seizure vs No Seizure')\n",
    "plt.show()"
   ]
  },
  {
   "cell_type": "code",
   "execution_count": 6,
   "id": "27368724-935c-4ae6-8d5a-b7be0fc609c7",
   "metadata": {},
   "outputs": [],
   "source": [
    "y = np.argmax(y, axis=1) \n",
    "y = np.where(y > 0, 1, 0)  \n",
    "X_train, X_test, y_train, y_test = train_test_split(X, y, test_size=0.2,random_state=0)"
   ]
  },
  {
   "cell_type": "code",
   "execution_count": 7,
   "id": "9c92fa61-6d38-436e-af60-4616afaf16c6",
   "metadata": {},
   "outputs": [
    {
     "name": "stdout",
     "output_type": "stream",
     "text": [
      "[1 0 1 ... 1 1 1]\n"
     ]
    }
   ],
   "source": [
    "print(y)"
   ]
  },
  {
   "cell_type": "code",
   "execution_count": 8,
   "id": "0e3f81f2-631a-4828-8a34-32640513942f",
   "metadata": {},
   "outputs": [
    {
     "name": "stdout",
     "output_type": "stream",
     "text": [
      "(9200, 178, 1)\n",
      "(2300, 178, 1)\n"
     ]
    }
   ],
   "source": [
    "print(X_train.shape)\n",
    "print(X_test.shape)"
   ]
  },
  {
   "cell_type": "code",
   "execution_count": 9,
   "id": "165405f1-3c09-476c-9f38-ca9a4421cf08",
   "metadata": {},
   "outputs": [],
   "source": [
    "X_train = X_train.reshape(X_train.shape[0], X_train.shape[1], 1)  \n",
    "X_test = X_test.reshape(X_test.shape[0], X_test.shape[1], 1)  "
   ]
  },
  {
   "cell_type": "code",
   "execution_count": 10,
   "id": "d0e04a9f-1f6f-4688-86ac-2ff93968d012",
   "metadata": {},
   "outputs": [],
   "source": [
    "X_train=pd.DataFrame(X_train.reshape(X_train.shape[0],X_train.shape[1] ), columns=cols)\n",
    "X_test=pd.DataFrame(X_test.reshape(X_test.shape[0],X_test.shape[1]),columns=cols)"
   ]
  },
  {
   "cell_type": "code",
   "execution_count": 11,
   "id": "49ff7c7f-30a0-4d11-b952-265e0fb11c25",
   "metadata": {},
   "outputs": [
    {
     "name": "stdout",
     "output_type": "stream",
     "text": [
      "                X1           X2           X3           X4           X5  \\\n",
      "count  9200.000000  9200.000000  9200.000000  9200.000000  9200.000000   \n",
      "mean    -12.265978   -11.566957   -10.624783    -9.381522    -8.028261   \n",
      "std     169.190026   168.884552   165.498183   162.298170   160.950863   \n",
      "min   -1839.000000 -1838.000000 -1835.000000 -1845.000000 -1791.000000   \n",
      "25%     -54.000000   -54.250000   -54.000000   -54.000000   -54.000000   \n",
      "50%      -8.000000    -7.000000    -7.000000    -7.000000    -8.000000   \n",
      "75%      35.000000    36.000000    36.000000    36.000000    35.000000   \n",
      "max    1726.000000  1713.000000  1697.000000  1612.000000  1518.000000   \n",
      "\n",
      "                X6           X7           X8           X9          X10  ...  \\\n",
      "count  9200.000000  9200.000000  9200.000000  9200.000000  9200.000000  ...   \n",
      "mean     -6.863478    -6.148804    -6.076630    -5.827391    -5.324891  ...   \n",
      "std     160.056401   160.413283   162.257954   162.758628   159.977657  ...   \n",
      "min   -1757.000000 -1832.000000 -1778.000000 -1840.000000 -1867.000000  ...   \n",
      "25%     -54.000000   -54.000000   -55.000000   -55.000000   -54.000000  ...   \n",
      "50%      -9.000000    -8.000000    -8.000000    -8.000000    -7.000000  ...   \n",
      "75%      36.000000    35.000000    36.000000    37.000000    36.000000  ...   \n",
      "max    1816.000000  2047.000000  2047.000000  2047.000000  2047.000000  ...   \n",
      "\n",
      "              X169         X170         X171         X172         X173  \\\n",
      "count  9200.000000  9200.000000  9200.000000  9200.000000  9200.000000   \n",
      "mean     -9.552174   -10.422283   -11.960652   -13.235543   -13.774239   \n",
      "std     165.387463   165.276475   167.374949   170.112938   170.801770   \n",
      "min   -1860.000000 -1867.000000 -1860.000000 -1642.000000 -1723.000000   \n",
      "25%     -55.000000   -56.000000   -56.000000   -56.000000   -56.000000   \n",
      "50%      -9.000000    -9.000000   -10.000000   -11.000000   -10.000000   \n",
      "75%      35.000000    35.000000    34.000000    32.000000    33.000000   \n",
      "max    1177.000000  1385.000000  1413.000000  1176.000000  1436.000000   \n",
      "\n",
      "              X174         X175         X176         X177         X178  \n",
      "count  9200.000000  9200.000000  9200.000000  9200.000000  9200.000000  \n",
      "mean    -13.169565   -12.691848   -12.313587   -12.109022   -11.865435  \n",
      "std     169.368032   165.579872   164.411174   165.211265   166.677190  \n",
      "min   -1866.000000 -1863.000000 -1781.000000 -1727.000000 -1829.000000  \n",
      "25%     -56.000000   -55.000000   -55.000000   -55.000000   -55.000000  \n",
      "50%     -10.000000    -9.000000    -9.000000    -9.000000    -9.000000  \n",
      "75%      34.000000    34.000000    34.000000    34.000000    33.000000  \n",
      "max    1733.000000  1958.000000  2047.000000  2047.000000  1915.000000  \n",
      "\n",
      "[8 rows x 178 columns]\n"
     ]
    }
   ],
   "source": [
    "X_train_df = pd.DataFrame(X_train, columns=cols)\n",
    "print(X_train_df.describe())"
   ]
  },
  {
   "cell_type": "code",
   "execution_count": 12,
   "id": "d55015e8-9d38-4563-8765-725cc79e43bd",
   "metadata": {},
   "outputs": [
    {
     "name": "stdout",
     "output_type": "stream",
     "text": [
      "Mean of X_train: X1     -12.265978\n",
      "X2     -11.566957\n",
      "X3     -10.624783\n",
      "X4      -9.381522\n",
      "X5      -8.028261\n",
      "          ...    \n",
      "X174   -13.169565\n",
      "X175   -12.691848\n",
      "X176   -12.313587\n",
      "X177   -12.109022\n",
      "X178   -11.865435\n",
      "Length: 178, dtype: float64\n",
      "Standard Deviation of X_train: X1      169.180831\n",
      "X2      168.875374\n",
      "X3      165.489189\n",
      "X4      162.289349\n",
      "X5      160.942116\n",
      "           ...    \n",
      "X174    169.358827\n",
      "X175    165.570873\n",
      "X176    164.402239\n",
      "X177    165.202286\n",
      "X178    166.668131\n",
      "Length: 178, dtype: float64\n"
     ]
    }
   ],
   "source": [
    "print(f\"Mean of X_train: {np.mean(X_train, axis=0)}\")\n",
    "print(f\"Standard Deviation of X_train: {np.std(X_train,axis=0)}\")\n"
   ]
  },
  {
   "cell_type": "code",
   "execution_count": 13,
   "id": "59926e2f-82f5-4876-8c6c-584beab1f0cf",
   "metadata": {},
   "outputs": [],
   "source": [
    "from tensorflow.keras.optimizers import Adam\n"
   ]
  },
  {
   "cell_type": "code",
   "execution_count": 14,
   "id": "46e67f0c-34b6-4361-8572-0f7caf1b84fa",
   "metadata": {},
   "outputs": [
    {
     "name": "stderr",
     "output_type": "stream",
     "text": [
      "C:\\Users\\aarch\\AppData\\Local\\Programs\\Python\\Python312\\Lib\\site-packages\\keras\\src\\layers\\convolutional\\base_conv.py:107: UserWarning: Do not pass an `input_shape`/`input_dim` argument to a layer. When using Sequential models, prefer using an `Input(shape)` object as the first layer in the model instead.\n",
      "  super().__init__(activity_regularizer=activity_regularizer, **kwargs)\n"
     ]
    },
    {
     "name": "stdout",
     "output_type": "stream",
     "text": [
      "Epoch 1/10\n",
      "\u001b[1m144/144\u001b[0m \u001b[32m━━━━━━━━━━━━━━━━━━━━\u001b[0m\u001b[37m\u001b[0m \u001b[1m8s\u001b[0m 37ms/step - accuracy: 0.6829 - loss: 5.0997 - val_accuracy: 0.8930 - val_loss: 0.5862\n",
      "Epoch 2/10\n",
      "\u001b[1m144/144\u001b[0m \u001b[32m━━━━━━━━━━━━━━━━━━━━\u001b[0m\u001b[37m\u001b[0m \u001b[1m6s\u001b[0m 43ms/step - accuracy: 0.8047 - loss: 0.6059 - val_accuracy: 0.9230 - val_loss: 0.4713\n",
      "Epoch 3/10\n",
      "\u001b[1m144/144\u001b[0m \u001b[32m━━━━━━━━━━━━━━━━━━━━\u001b[0m\u001b[37m\u001b[0m \u001b[1m7s\u001b[0m 51ms/step - accuracy: 0.8497 - loss: 0.5368 - val_accuracy: 0.8922 - val_loss: 0.3407\n",
      "Epoch 4/10\n",
      "\u001b[1m144/144\u001b[0m \u001b[32m━━━━━━━━━━━━━━━━━━━━\u001b[0m\u001b[37m\u001b[0m \u001b[1m8s\u001b[0m 52ms/step - accuracy: 0.9098 - loss: 0.2569 - val_accuracy: 0.9522 - val_loss: 0.1780\n",
      "Epoch 5/10\n",
      "\u001b[1m144/144\u001b[0m \u001b[32m━━━━━━━━━━━━━━━━━━━━\u001b[0m\u001b[37m\u001b[0m \u001b[1m7s\u001b[0m 51ms/step - accuracy: 0.9261 - loss: 0.1642 - val_accuracy: 0.9626 - val_loss: 0.1193\n",
      "Epoch 6/10\n",
      "\u001b[1m144/144\u001b[0m \u001b[32m━━━━━━━━━━━━━━━━━━━━\u001b[0m\u001b[37m\u001b[0m \u001b[1m7s\u001b[0m 26ms/step - accuracy: 0.9490 - loss: 0.1254 - val_accuracy: 0.9726 - val_loss: 0.0730\n",
      "Epoch 7/10\n",
      "\u001b[1m144/144\u001b[0m \u001b[32m━━━━━━━━━━━━━━━━━━━━\u001b[0m\u001b[37m\u001b[0m \u001b[1m7s\u001b[0m 51ms/step - accuracy: 0.9646 - loss: 0.0937 - val_accuracy: 0.9748 - val_loss: 0.0664\n",
      "Epoch 8/10\n",
      "\u001b[1m144/144\u001b[0m \u001b[32m━━━━━━━━━━━━━━━━━━━━\u001b[0m\u001b[37m\u001b[0m \u001b[1m7s\u001b[0m 51ms/step - accuracy: 0.9698 - loss: 0.0714 - val_accuracy: 0.9787 - val_loss: 0.0623\n",
      "Epoch 9/10\n",
      "\u001b[1m144/144\u001b[0m \u001b[32m━━━━━━━━━━━━━━━━━━━━\u001b[0m\u001b[37m\u001b[0m \u001b[1m7s\u001b[0m 51ms/step - accuracy: 0.9772 - loss: 0.0690 - val_accuracy: 0.9752 - val_loss: 0.0722\n",
      "Epoch 10/10\n",
      "\u001b[1m144/144\u001b[0m \u001b[32m━━━━━━━━━━━━━━━━━━━━\u001b[0m\u001b[37m\u001b[0m \u001b[1m7s\u001b[0m 51ms/step - accuracy: 0.9778 - loss: 0.0571 - val_accuracy: 0.9735 - val_loss: 0.0827\n"
     ]
    }
   ],
   "source": [
    "\n",
    "model = Sequential()\n",
    "\n",
    "# 1st Convolutional Layer\n",
    "model.add(Conv1D(filters=64, kernel_size=3, activation='relu', input_shape=(X_train.shape[1], 1)))\n",
    "model.add(MaxPooling1D(pool_size=2))\n",
    "\n",
    "# 2nd Convolutional Layer\n",
    "model.add(Conv1D(filters=128, kernel_size=3, activation='relu'))\n",
    "model.add(MaxPooling1D(pool_size=2))\n",
    "\n",
    "# Flatten Layer\n",
    "model.add(Flatten())\n",
    "\n",
    "# Fully connected (Dense) Layer\n",
    "model.add(Dense(128, activation='relu'))\n",
    "model.add(Dropout(0.5))  # Dropout for regularization\n",
    "\n",
    "# Output Layer\n",
    "model.add(Dense(1, activation='sigmoid'))  # Sigmoid for binary classification\n",
    "\n",
    "# Compile the model\n",
    "model.compile(optimizer=Adam(), loss='binary_crossentropy', metrics=['accuracy'])\n",
    "history = model.fit(X_train, y_train, epochs=10, batch_size = 64, validation_data=(X_test, y_test))"
   ]
  },
  {
   "cell_type": "code",
   "execution_count": 15,
   "id": "e2ea39fc-75fb-4c59-a7d2-5a0ddda3c779",
   "metadata": {},
   "outputs": [
    {
     "name": "stdout",
     "output_type": "stream",
     "text": [
      "\u001b[1m72/72\u001b[0m \u001b[32m━━━━━━━━━━━━━━━━━━━━\u001b[0m\u001b[37m\u001b[0m \u001b[1m1s\u001b[0m 12ms/step - accuracy: 0.9738 - loss: 0.0819\n",
      "Test Accuracy: 0.9734782576560974\n",
      "\u001b[1m72/72\u001b[0m \u001b[32m━━━━━━━━━━━━━━━━━━━━\u001b[0m\u001b[37m\u001b[0m \u001b[1m1s\u001b[0m 12ms/step\n"
     ]
    }
   ],
   "source": [
    "test_loss, test_acc = model.evaluate(X_test, y_test)\n",
    "print(f'Test Accuracy: {test_acc}')\n",
    "y_pred_cnn = model.predict(X_test)\n",
    "y_pred_cnn = (y_pred_cnn > 0.5).astype(int)"
   ]
  },
  {
   "cell_type": "code",
   "execution_count": 16,
   "id": "357c0abf-c88a-4f52-9d06-a19e8087902a",
   "metadata": {},
   "outputs": [
    {
     "name": "stdout",
     "output_type": "stream",
     "text": [
      "CNN Model Accuracy: 0.9734782608695652\n",
      "              precision    recall  f1-score   support\n",
      "\n",
      "           0       0.98      0.88      0.93       446\n",
      "           1       0.97      1.00      0.98      1854\n",
      "\n",
      "    accuracy                           0.97      2300\n",
      "   macro avg       0.98      0.94      0.96      2300\n",
      "weighted avg       0.97      0.97      0.97      2300\n",
      "\n",
      "Confusion Matrix:\n",
      "[[ 392   54]\n",
      " [   7 1847]]\n"
     ]
    }
   ],
   "source": [
    "from sklearn.metrics import accuracy_score, classification_report, confusion_matrix\n",
    "accuracy_cnn = accuracy_score(y_test, y_pred_cnn)\n",
    "print(f'CNN Model Accuracy: {accuracy_cnn}')\n",
    "print(classification_report(y_test, y_pred_cnn))\n",
    "conf_matrix = confusion_matrix(y_test, y_pred_cnn)\n",
    "print(\"Confusion Matrix:\")\n",
    "print(conf_matrix)"
   ]
  },
  {
   "cell_type": "code",
   "execution_count": 17,
   "id": "cdb56450-8f38-4a42-bb03-4e909f1c8d05",
   "metadata": {},
   "outputs": [
    {
     "name": "stdout",
     "output_type": "stream",
     "text": [
      "Accuracy score: 0.9735\n"
     ]
    }
   ],
   "source": [
    "print(f'Accuracy score: {accuracy_score(y_test, y_pred_cnn):0.4f}')"
   ]
  },
  {
   "cell_type": "code",
   "execution_count": 18,
   "id": "856eafcf-102f-4887-a9df-84fee4e81999",
   "metadata": {},
   "outputs": [
    {
     "name": "stdout",
     "output_type": "stream",
     "text": [
      "[1 0 1 ... 1 1 0]\n",
      "hello\n",
      "[[1]\n",
      " [0]\n",
      " [1]\n",
      " ...\n",
      " [1]\n",
      " [1]\n",
      " [0]]\n"
     ]
    }
   ],
   "source": [
    "print(y_test)\n",
    "print(y_pred_cnn)"
   ]
  },
  {
   "cell_type": "code",
   "execution_count": 19,
   "id": "a7e79c58-bcdd-47ee-9bdf-6a20eb4bac1d",
   "metadata": {},
   "outputs": [
    {
     "name": "stdout",
     "output_type": "stream",
     "text": [
      "[[ 392   54]\n",
      " [   7 1847]]\n"
     ]
    },
    {
     "data": {
      "image/png": "[encoded data removed]",
      "text/plain": [
       "<Figure size 400x300 with 2 Axes>"
      ]
     },
     "metadata": {},
     "output_type": "display_data"
    }
   ],
   "source": [
    "cf_matrix = confusion_matrix(y_test, y_pred_cnn)\n",
    "print(cf_matrix)\n",
    "plt.figure(figsize=(4, 3))\n",
    "plt.title('Confusion Matrix for Seizure Dataset (CNN)')\n",
    "sn.heatmap(cf_matrix, annot=True, fmt=' ', cmap='Reds')\n",
    "plt.show()"
   ]
  },
  {
   "cell_type": "code",
   "execution_count": 20,
   "id": "41735750-85fe-4819-8c35-aec2f126f776",
   "metadata": {},
   "outputs": [
    {
     "name": "stdout",
     "output_type": "stream",
     "text": [
      "              precision    recall  f1-score   support\n",
      "\n",
      "           0       0.98      0.88      0.93       446\n",
      "           1       0.97      1.00      0.98      1854\n",
      "\n",
      "    accuracy                           0.97      2300\n",
      "   macro avg       0.98      0.94      0.96      2300\n",
      "weighted avg       0.97      0.97      0.97      2300\n",
      "\n"
     ]
    }
   ],
   "source": [
    "from sklearn.metrics import classification_report\n",
    "print(classification_report(y_test,y_pred_cnn))"
   ]
  }
 ],
 "metadata": {
  "kernelspec": {
   "display_name": "Python 3 (ipykernel)",
   "language": "python",
   "name": "python3"
  },
  "language_info": {
   "codemirror_mode": {
    "name": "ipython",
    "version": 3
   },
   "file_extension": ".py",
   "mimetype": "text/x-python",
   "name": "python",
   "nbconvert_exporter": "python",
   "pygments_lexer": "ipython3",
   "version": "3.12.4"
  }
 },
 "nbformat": 4,
 "nbformat_minor": 5
}
